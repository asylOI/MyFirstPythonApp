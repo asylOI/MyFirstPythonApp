{
 "cells": [
  {
   "cell_type": "code",
   "execution_count": null,
   "id": "d5d3eb18",
   "metadata": {},
   "outputs": [],
   "source": [
    "# name: Aboubacar sidiki sylla\n",
    "# Id : SYL23568693\n",
    "# date: 2023.10.29\n",
    "# purpose : Coursework2"
   ]
  },
  {
   "cell_type": "code",
   "execution_count": null,
   "id": "9b627ca5",
   "metadata": {},
   "outputs": [],
   "source": [
    "# This program is designed to estimate the salary of a player\n",
    "# knowing his/her skills."
   ]
  },
  {
   "cell_type": "code",
   "execution_count": null,
   "id": "49242ea2",
   "metadata": {},
   "outputs": [],
   "source": [
    "def calculate_salary(final_rate):\n",
    "    "
   ]
  },
  {
   "cell_type": "code",
   "execution_count": null,
   "id": "1b725362",
   "metadata": {},
   "outputs": [],
   "source": [
    "# this function is used to calculate the rate based on  the skills\n",
    "\n",
    "def calculate_rating(speed, shooting, passing, defending, dribbling, physicality):\n",
    "    \n",
    "    return int((speed + shooting + passing + defending + dribbling + physicality)* 100 / 30)"
   ]
  },
  {
   "cell_type": "code",
   "execution_count": null,
   "id": "1e36e477",
   "metadata": {},
   "outputs": [],
   "source": [
    "# this will be the main fuction\n",
    "\n",
    "def main():"
   ]
  },
  {
   "cell_type": "code",
   "execution_count": null,
   "id": "56fa3926",
   "metadata": {
    "scrolled": true
   },
   "outputs": [],
   "source": [
    "# This function will ask the user to enter a skill and returns it if it passes the validity check.\n",
    "\n",
    "def ask_skill(skill_name):\n",
    "    \n",
    "    # The while loop will be asking the user to enter the skill again until it is in a correct format.\n",
    "    \n",
    "    while(True):\n",
    "        try :\n",
    "            skill = int(input(skill_name))\n",
    "            if  (skill < 0 or skill > 5) :\n",
    "                raise Exception()\n",
    "            break  # the break is used to instantly exit the loop if everything is alright\n",
    "        except:\n",
    "            print(\"The skill is not valid. PLEASE TRY AGAIN\")\n",
    "    \n",
    "    return skill\n",
    "    "
   ]
  },
  {
   "cell_type": "code",
   "execution_count": null,
   "id": "8c991d06",
   "metadata": {},
   "outputs": [],
   "source": [
    "# Here the function will be used for the six skills.\n",
    "\n",
    "speed = ask_skill(\"Enter the speed: \")\n",
    "shooting = ask_skill(\"Enter the shooting: \")\n",
    "passing = ask_skill(\"Enter the passing: \")\n",
    "defending = ask_skill(\"Enter the defending: \")\n",
    "dribbling = ask_skill(\"Enter the dribbling: \")\n",
    "physicality = ask_skill(\"Enter the physicality: \")\n",
    "                "
   ]
  },
  {
   "cell_type": "code",
   "execution_count": null,
   "id": "0e4fb002",
   "metadata": {},
   "outputs": [],
   "source": [
    "# The datas here are for the players' salaries and overall rates\n",
    "\n",
    "# stocking variables in a list, the list of salaries and the list of rates\n",
    "\n",
    "salaries = [1000,700,500,400]\n",
    "rates = [80,60,45,30]\n",
    "\n",
    "#This part is just for printing an overall view of all our datas \n",
    "\n",
    "print(\"No \",\"Salary \", \"Overall rate\")\n",
    "print(\"1  \",salaries[0],\"  \",rates[0])\n",
    "for i in range(1,4):\n",
    "    print(i+1,\" \",salaries[i],\"   \",rates[i])"
   ]
  },
  {
   "cell_type": "code",
   "execution_count": null,
   "id": "a483e1e8",
   "metadata": {},
   "outputs": [],
   "source": [
    "# Calculating the overall rate using the formula\n",
    "final_rate = int((speed + shooting + passing + defending + dribbling + physicality)* 100 / 30)"
   ]
  },
  {
   "cell_type": "code",
   "execution_count": null,
   "id": "f614724d",
   "metadata": {},
   "outputs": [],
   "source": [
    "# We can now display the salary\n",
    "\n",
    "if final_rate >= 80 :\n",
    "    print(salaries[0])\n",
    "elif final_rate < 80 and final_rate > 60 :\n",
    "    print(salaries[0],salaries[1])\n",
    "elif final_rate == 60 :\n",
    "    print(salaries[1])\n",
    "elif final_rate < 60 and final_rate > 45 :\n",
    "    print(salaries[1],salaries[2])\n",
    "elif final_rate == 45 :\n",
    "    print(salaries[2])\n",
    "elif final_rate < 45 and final_rate > 30 :\n",
    "    print(salaries[2],salaries[3])\n",
    "elif final_rate <= 30 :\n",
    "    print(salaries[3])\n"
   ]
  },
  {
   "cell_type": "code",
   "execution_count": null,
   "id": "00bd9c2e",
   "metadata": {},
   "outputs": [],
   "source": []
  }
 ],
 "metadata": {
  "kernelspec": {
   "display_name": "Python 3 (ipykernel)",
   "language": "python",
   "name": "python3"
  },
  "language_info": {
   "codemirror_mode": {
    "name": "ipython",
    "version": 3
   },
   "file_extension": ".py",
   "mimetype": "text/x-python",
   "name": "python",
   "nbconvert_exporter": "python",
   "pygments_lexer": "ipython3",
   "version": "3.11.4"
  }
 },
 "nbformat": 4,
 "nbformat_minor": 5
}
